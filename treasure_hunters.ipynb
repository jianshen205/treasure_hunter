{
 "cells": [
  {
   "cell_type": "markdown",
   "metadata": {},
   "source": [
    "## treasure hunters\n",
    "In this threasure hunters game, a map-like environment with treasure, obstacle and opponents is provided.\n",
    "consider a map as following:\n",
    "![title](picture.png)\n",
    "where node 4 is \"opponent\", node 6 is \"treasure\", and all unavailable paths are considered as obstacles.\n",
    "\n",
    "corresponding ajcency matrix is:\n",
    "[[0, 0, 1, 0, 0, 0, 0], \n",
    "[0, 0, 0, 1, 0, 0, 0], \n",
    "[1, 0, 0, 1, 1, 0, 0], \n",
    "[0, 0, 1, 0, 1, 1, 0], \n",
    "[0, 0, 0, 0, 0, 1, 1], \n",
    "[0, 0, 0, 0, 0, 1, 1], \n",
    "[0, 0, 0, 0, 1, 0, 0]]\n"
   ]
  },
  {
   "cell_type": "markdown",
   "metadata": {},
   "source": [
    "set up dependencies"
   ]
  },
  {
   "cell_type": "code",
   "execution_count": 6,
   "metadata": {},
   "outputs": [],
   "source": [
    "import numpy as np\n"
   ]
  },
  {
   "cell_type": "markdown",
   "metadata": {},
   "source": [
    "set up environmental Reward Matrix, learning rate gamma and initial Q value matrix"
   ]
  },
  {
   "cell_type": "code",
   "execution_count": 7,
   "metadata": {},
   "outputs": [],
   "source": [
    "Reward = np.matrix([[-1,-1,0,-1,-1,-1,-1],\n",
    "                    [-1,-1,-1,0,-1,-1,-1],\n",
    "                    [0,-1,-1,0,-100,-1,-1],\n",
    "                    [-1,-1,0,-1,-100,0,-1],\n",
    "                    [-1,-1,-1,-1,-1,0,100],\n",
    "                    [-1,-1,-1,-1,-1,0,100],\n",
    "                    [-1,-1,-1,-1,0,-1,-1]])\n",
    "gamma = 0.5\n",
    "\n",
    "Q = np.matrix(np.zeros([7,7]))"
   ]
  },
  {
   "cell_type": "markdown",
   "metadata": {},
   "source": [
    "for each episode, select random initial state, traverse until treasure is found"
   ]
  },
  {
   "cell_type": "code",
   "execution_count": 67,
   "metadata": {},
   "outputs": [],
   "source": [
    "initial_state = np.random.randint(7)\n",
    "\n",
    "def find_all_avail_actions(state):\n",
    "    all_actions = Reward[state]\n",
    "    avail_actions = np.where(all_actions >= 0)[1] #print out indices\n",
    "#     print(avail_actions)\n",
    "    return avail_actions\n",
    "\n",
    "def random_next_action(avail_actions):\n",
    "    next_action = int(np.random.choice(avail_actions, 1)) # randomly chose one action from all avail_actions\n",
    "#     print (next_action)\n",
    "    return next_action\n",
    "\n",
    "# avail = find_all_avail_actions(3)\n",
    "# action = random_next_actions(avail)\n",
    "\n",
    "def update_Q_value_matrix(curr_state, action):\n",
    "    max_index = np.where(Q[action,] == np.max(Q[action,]))[1] ##get indices\n",
    "    if max_index.shape[0] > 1:\n",
    "        max_index = int(np.random.choice(max_index, size = 1))\n",
    "    else:\n",
    "        max_index = int(max_index)\n",
    "    max_value = Q[action, max_index]\n",
    "    \n",
    "    # Q learning formula\n",
    "    Q[current_state, action] = Reward[current_state, action] + gamma * max_value\n",
    "\n",
    "# update_Q_value_matrix()\n"
   ]
  },
  {
   "cell_type": "markdown",
   "metadata": {},
   "source": [
    "training over 10,000 iterations"
   ]
  },
  {
   "cell_type": "code",
   "execution_count": 78,
   "metadata": {},
   "outputs": [
    {
     "name": "stdout",
     "output_type": "stream",
     "text": [
      "Trained Q matrix:\n",
      "[[  0.           0.          16.66666667   0.           0.\n",
      "    0.           0.        ]\n",
      " [  0.           0.           0.          33.33333333   0.\n",
      "    0.           0.        ]\n",
      " [  8.33333333   0.           0.          33.33333333   0.\n",
      "    0.           0.        ]\n",
      " [  0.           0.          16.66666667   0.           0.\n",
      "   66.66666667   0.        ]\n",
      " [  0.           0.           0.           0.           0.\n",
      "   66.66666667 133.33333333]\n",
      " [  0.           0.           0.           0.           0.\n",
      "   66.66666667 133.33333333]\n",
      " [  0.           0.           0.           0.          66.66666667\n",
      "    0.           0.        ]]\n"
     ]
    }
   ],
   "source": [
    "for i in range(10000):\n",
    "    current_state = np.random.randint(0, int(Q.shape[0]))\n",
    "    available_act = find_all_avail_actions(current_state)\n",
    "    action = random_next_action(available_act)\n",
    "    update_Q_value_matrix(current_state,action)\n",
    "\n",
    "# Normalize the \"trained\" Q matrix\n",
    "print(\"Trained Q matrix:\")\n",
    "print(Q)"
   ]
  },
  {
   "cell_type": "code",
   "execution_count": 77,
   "metadata": {},
   "outputs": [
    {
     "name": "stdout",
     "output_type": "stream",
     "text": [
      "Selected path:\n",
      "[5, 6]\n"
     ]
    }
   ],
   "source": [
    "current_state = np.random.randint(7)\n",
    "steps = [current_state]\n",
    "\n",
    "while current_state != 6:\n",
    "    \n",
    "    next_step_index = np.where(Q[current_state,] == np.max(Q[current_state,]))[1]\n",
    "    \n",
    "    if next_step_index.shape[0] > 1:\n",
    "        next_step_index = int(np.random.choice(next_step_index, size = 1))\n",
    "    else:\n",
    "        next_step_index = int(next_step_index)\n",
    "    \n",
    "    steps.append(next_step_index)\n",
    "    current_state = next_step_index\n",
    "\n",
    "# Print selected sequence of steps\n",
    "print(\"Selected path:\")\n",
    "print(steps)"
   ]
  },
  {
   "cell_type": "raw",
   "metadata": {},
   "source": [
    "reference: http://mnemstudio.org/path-finding-q-learning-tutorial.htm"
   ]
  },
  {
   "cell_type": "code",
   "execution_count": null,
   "metadata": {},
   "outputs": [],
   "source": []
  }
 ],
 "metadata": {
  "kernelspec": {
   "display_name": "Python 3",
   "language": "python",
   "name": "python3"
  },
  "language_info": {
   "codemirror_mode": {
    "name": "ipython",
    "version": 3
   },
   "file_extension": ".py",
   "mimetype": "text/x-python",
   "name": "python",
   "nbconvert_exporter": "python",
   "pygments_lexer": "ipython3",
   "version": "3.7.3"
  }
 },
 "nbformat": 4,
 "nbformat_minor": 2
}
