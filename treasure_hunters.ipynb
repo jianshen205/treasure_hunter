{
 "cells": [
  {
   "cell_type": "markdown",
   "metadata": {},
   "source": [
    "## treasure hunters\n",
    "In this threasure hunters game, a map-like environment with treasure, obstacle and opponents is provided.\n",
    "Consider a map as following:\n",
    "![title](picture.png)\n",
    "where node 4 is \"opponent\", node 6 is \"treasure\", and all unavailable paths are considered as obstacles.\n",
    "\n",
    "Corresponding adjacency matrix is:\n",
    "\n",
    "[[0, 0, 1, 0, 0, 0, 0], \n",
    "\n",
    "[0, 0, 0, 1, 0, 0, 0], \n",
    "\n",
    "[1, 0, 0, 1, 1, 0, 0], \n",
    "\n",
    "[0, 0, 1, 0, 1, 1, 0], \n",
    "\n",
    "[0, 0, 0, 0, 0, 1, 1], \n",
    "\n",
    "[0, 0, 0, 0, 0, 1, 1], \n",
    "\n",
    "[0, 0, 0, 0, 1, 0, 0]]\n"
   ]
  },
  {
   "cell_type": "code",
   "execution_count": 48,
   "metadata": {},
   "outputs": [],
   "source": [
    "import numpy as np\n"
   ]
  },
  {
   "cell_type": "markdown",
   "metadata": {},
   "source": [
    "Set up environmental Reward Matrix, and learning rate gamma. Initialize Q value matrix."
   ]
  },
  {
   "cell_type": "code",
   "execution_count": 49,
   "metadata": {},
   "outputs": [],
   "source": [
    "Reward = np.matrix([[-1,-1,0,-1,-1,-1,-1],\n",
    "                    [-1,-1,-1,0,-1,-1,-1],\n",
    "                    [0,-1,-1,0,-100,-1,-1],\n",
    "                    [-1,-1,0,-1,-100,0,-1],\n",
    "                    [-1,-1,-1,-1,-1,0,100],\n",
    "                    [-1,-1,-1,-1,-1,0,100],\n",
    "                    [-1,-1,-1,-1,0,-1,-1]])\n",
    "gamma = 0.5\n",
    "\n",
    "Q_value = np.matrix(np.zeros([7,7]))"
   ]
  },
  {
   "cell_type": "markdown",
   "metadata": {},
   "source": [
    "For each episode, select random initial state, traverse until treasure(node 6) is found."
   ]
  },
  {
   "cell_type": "code",
   "execution_count": 75,
   "metadata": {},
   "outputs": [],
   "source": [
    "initial_state = np.random.randint(7)\n",
    "\n",
    "def find_all_avail_actions(state):\n",
    "    all_actions = Reward[state]\n",
    "    avail_actions = np.where(all_actions >= 0)[1] #print out indices\n",
    "    return avail_actions\n",
    "\n",
    "def random_next_action(avail_actions):\n",
    "    next_action = int(np.random.choice(avail_actions, 1)) # randomly chose one action from all avail_actions\n",
    "#     print (next_action)\n",
    "    return next_action\n",
    "\n",
    "def update_Q_value_matrix(curr_state, action):\n",
    "    max_index = np.where(Q_value[action] == np.max(Q_value[action]))[1] ##get indices\n",
    "    if max_index.shape[0] > 1: ##if there are multiple actions of maximum rewards\n",
    "        max_index = int(np.random.choice(max_index, size = 1))\n",
    "    else:\n",
    "        max_index = int(max_index)\n",
    "    max_value = Q_value[action, max_index]\n",
    "    \n",
    "    # transition rule\n",
    "    Q_value[current_state, action] = Reward[current_state, action] + gamma * max_value\n"
   ]
  },
  {
   "cell_type": "markdown",
   "metadata": {},
   "source": [
    "training over 10,000 iterations"
   ]
  },
  {
   "cell_type": "code",
   "execution_count": 82,
   "metadata": {},
   "outputs": [
    {
     "name": "stdout",
     "output_type": "stream",
     "text": [
      "Q value matrix after 10000 iterations:\n",
      "[[  0.           0.          16.66666667   0.           0.\n",
      "    0.           0.        ]\n",
      " [  0.           0.           0.          33.33333333   0.\n",
      "    0.           0.        ]\n",
      " [  8.33333333   0.           0.          33.33333333   0.\n",
      "    0.           0.        ]\n",
      " [  0.           0.          16.66666667   0.           0.\n",
      "   66.66666667   0.        ]\n",
      " [  0.           0.           0.           0.           0.\n",
      "   66.66666667 133.33333333]\n",
      " [  0.           0.           0.           0.           0.\n",
      "   66.66666667 133.33333333]\n",
      " [  0.           0.           0.           0.          66.66666667\n",
      "    0.           0.        ]]\n"
     ]
    }
   ],
   "source": [
    "iterations = 10000;\n",
    "for i in range(iterations):\n",
    "    current_state = np.random.randint(7)#initialize random initial state\n",
    "    available_act = find_all_avail_actions(current_state)\n",
    "    action = random_next_action(available_act)\n",
    "    update_Q_value_matrix(current_state, action)\n",
    "\n",
    "print(\"Q value matrix after\", iterations, 'iterations:')\n",
    "print(Q_value)"
   ]
  },
  {
   "cell_type": "code",
   "execution_count": 83,
   "metadata": {},
   "outputs": [
    {
     "name": "stdout",
     "output_type": "stream",
     "text": [
      "Selected path:\n",
      "[1, 3, 5, 6]\n"
     ]
    }
   ],
   "source": [
    "curr_state = np.random.randint(2) #set initial state either 0 or 1\n",
    "path = []\n",
    "path.append(curr_state)\n",
    "while curr_state != 6: #until treasure is found\n",
    "    next_action = np.where(Q_value[curr_state] == np.max(Q_value[curr_state]))[1]\n",
    "    if next_action.shape[0] > 1:\n",
    "        next_action = int(np.random.choice(next_action, size = 1))\n",
    "    else:\n",
    "        next_action = int(next_action)\n",
    "    \n",
    "    path.append(next_action)\n",
    "    curr_state = next_action\n",
    "\n",
    "print(\"Selected path:\")\n",
    "print(path) #it should either be [0,2,3,5,6] or [1,3,5,6]"
   ]
  },
  {
   "cell_type": "raw",
   "metadata": {},
   "source": [
    "reference: http://mnemstudio.org/path-finding-q-learning-tutorial.htm"
   ]
  }
 ],
 "metadata": {
  "kernelspec": {
   "display_name": "Python 3",
   "language": "python",
   "name": "python3"
  },
  "language_info": {
   "codemirror_mode": {
    "name": "ipython",
    "version": 3
   },
   "file_extension": ".py",
   "mimetype": "text/x-python",
   "name": "python",
   "nbconvert_exporter": "python",
   "pygments_lexer": "ipython3",
   "version": "3.7.3"
  }
 },
 "nbformat": 4,
 "nbformat_minor": 2
}
